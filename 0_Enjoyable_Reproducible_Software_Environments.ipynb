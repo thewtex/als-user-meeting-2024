{
 "cells": [
  {
   "cell_type": "code",
   "execution_count": null,
   "id": "b0f5c9d1-d048-42fe-8d1b-cdbcb88478ab",
   "metadata": {},
   "outputs": [],
   "source": []
  }
 ],
 "metadata": {
  "kernelspec": {
   "display_name": "Bash",
   "language": "bash",
   "name": "bash"
  },
  "language_info": {
   "codemirror_mode": "shell",
   "file_extension": ".sh",
   "mimetype": "text/x-sh",
   "name": "bash"
  }
 },
 "nbformat": 4,
 "nbformat_minor": 5
}
